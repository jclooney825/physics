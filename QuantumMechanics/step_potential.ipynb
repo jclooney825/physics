{
 "cells": [
  {
   "cell_type": "markdown",
   "id": "5ab651a2",
   "metadata": {},
   "source": [
    "## Time-Dependent Schrödinger Equation\n",
    "The 1-D time-dependent Schrödinger equation is\n",
    "\\begin{align}\n",
    "i \\hbar \\frac{\\partial \\Psi}{\\partial t} &= -\\frac{\\hbar^2}{2m} \\frac{\\partial^2 \\Psi}{\\partial x^2} + V(x) \\; \\Psi(x,t) \\\\\n",
    "\\end{align}\n",
    "where $\\Psi$ is the particle's wave function, $\\hbar$ is Planck's constant, $m$ is the particle's mass, and $i$ is the imaginary number.\n",
    "For this notebook, we define the symmetric boundary conditions placed on the Schrödinger equation over the interval $[-L, L]$ such that\n",
    "\\begin{align}\n",
    "\\Psi(-L, t) &= 0, \\\\\n",
    "\\Psi(L, t) &= 0. \\\\\n",
    "\\end{align}\n",
    "We take the initial condition to be\n",
    "\\begin{align}\n",
    "    \\Psi(x, 0) &=  \\frac{1}{\\sqrt{\\sqrt{2\\pi}} \\sigma } e^{ -\\frac{1}{2}\\left(\\frac{x - x_0}{\\sigma} \\right)^2} e^{i k_0 x} = \\psi_0.\n",
    "\\end{align}\n",
    "which is a Gaussian wave packet centered at $x_0$. \n",
    "### Numerical methods\n",
    "We define a spatial mesh over the interval $[a,b]$ such that $x_j = a + j\\Delta x$ where $j = 0,1,2, \\dotsb N$ and $\\Delta x = (b-a)/N$. Using a central finite difference method, the spatial differential operator acting on the wavefunction can be approximated with \n",
    "\\begin{align}\n",
    "\\frac{\\partial^2 \\Psi}{\\partial x^2} \\approx \\frac{\\Psi(x + \\Delta x, t) - 2\\Psi(x, t) + \\Psi(x -\\Delta x, t)}{ (\\Delta x)^2} + O((\\Delta x)^2).\n",
    "\\end{align}\n",
    "With this, we can define the discrete spatial derivatives at each of the mesh points as\n",
    "\\begin{align}\n",
    "\\frac{\\partial^2 \\Psi_j}{\\partial x^2} \\approx \\frac{\\Psi_{j+1} -2\\Psi_{j} + \\Psi_{j-1}}{(\\Delta x)^2}\n",
    "\\end{align}\n",
    "for $j = 1, 2, \\dotsb N-1$. Using this, we can create a system of ordinary differential equations (ODEs) at each spatial mesh point. \n",
    "\\begin{align}\n",
    "  i \\hbar\\frac{\\partial \\Psi_{j}}{\\partial t} = \\frac{-\\hbar^2}{2m (\\Delta x)^2} \\left(\\Psi_{j+1} -2\\Psi_{j} + \\Psi_{j-1} \\right) + V(x_j)\\Psi_j\n",
    "\\end{align}\n",
    "for $j = 1, 2, \\dotsb N-1$. At the inner and outer boundary points, $\\Psi_0$ and $\\Psi_{N}$ respectively, we impose the boundary conditions\n",
    "\\begin{align}\n",
    "    \\Psi_{0} = 0, \\\\\n",
    "    \\Psi_{N} = 0.\n",
    "\\end{align}\n",
    "With these boundary conditions, we have the system of discrete ODEs \n",
    "\\begin{align}\n",
    "i \\hbar \\frac{d \\Psi_0}{dt} &= 0,\\\\\n",
    "i \\hbar \\frac{d \\Psi_1}{dt} &= - \\frac{\\hbar^2}{2 m (\\Delta x)^2}\\left( - 2 \\Psi_{1} + \\Psi_{2} \\right) + V(x_{1}) \\Psi_1, \\\\\n",
    "i \\hbar \\frac{d \\Psi_2}{dt} &= - \\frac{\\hbar^2}{2 m (\\Delta x)^2}\\left(\\Psi_{1} - 2 \\Psi_{2} + \\Psi_{3} \\right) + V(x_{2}) \\Psi_2, \\\\ \n",
    "& \\vdots \\\\ \n",
    "i \\hbar \\frac{d \\Psi_{N-2}}{dt} &= - \\frac{\\hbar^2}{2 m (\\Delta x)^2}\\left(\\Psi_{N-3} - 2 \\Psi_{N-2} + \\Psi_{N-1} \\right) + V(x_{N-2}) \\Psi_{N-2}, \\\\ \n",
    "i \\hbar \\frac{d \\Psi_{N-1}}{dt} &= - \\frac{\\hbar^2}{2 m (\\Delta x)^2}\\left(\\Psi_{N-2} - 2 \\Psi_{N-1} \\right) + V(x_{N-1}) \\Psi_{N-1}, \\\\ \n",
    "i \\hbar \\frac{d\\Psi_{N}}{dt} &= 0.\n",
    "\\end{align}\n",
    "Solving this system of ODEs will allow us to approximate the wave function at each spatial point. \n",
    "### Matrix Form of the Discretized Schrödinger Equation\n",
    "Modern python libraries makes solving a system of ordinary differential equations very easy. To do this optimally, it is advantageous to organize the system into a single matrix equation. Organizing the system into a matrix equation, we have\n",
    "\\begin{align}\n",
    "i \\hbar \\frac{d}{dt}\n",
    "\\begin{pmatrix}\n",
    "\\Psi_1 \\\\\n",
    "\\Psi_{2}   \\\\\n",
    "\\Psi_{3} \\\\ \n",
    "\\vdots\\\\\n",
    "\\Psi_{N-2} \\\\\n",
    "\\Psi_{N-1} \n",
    "\\end{pmatrix}\n",
    "&=\n",
    "-\\frac{\\hbar^2}{2 m (\\Delta x)^2}\n",
    "\\begin{pmatrix}\n",
    "-2 & 1 &  &  \\cdots &  & 0 \\\\\n",
    "1 & -2 & 1 &  &  & \\\\\n",
    "0 &  1 &  -2 &  1 &  & \\vdots\\\\\n",
    "\\vdots & & \\ddots & \\ddots & \\ddots & 0\\\\\n",
    "& &  & 1 & -2 & 1 \\\\\n",
    "0 &  & \\cdots &  & 1 & -2 \n",
    "\\end{pmatrix}\n",
    "\\begin{pmatrix}\n",
    "\\Psi_1 \\\\\n",
    "\\Psi_{2}   \\\\\n",
    "\\Psi_{3} \\\\ \n",
    "\\vdots\\\\\n",
    "\\Psi_{N-2} \\\\\n",
    "\\Psi_{N-1} \n",
    "\\end{pmatrix}\n",
    "+\\begin{pmatrix}\n",
    "V(x_1) & 0 &  &  \\cdots &  & 0 \\\\\n",
    "0 & V(x_2) & 0 &  &  & \\\\\n",
    "0 &  0 &  V(x_3) &  0 &  & \\vdots\\\\\n",
    "\\vdots & & \\ddots & \\ddots & \\ddots & 0\\\\\n",
    "& &  & 0 & V(x_{N-2}) & 0 \\\\\n",
    "0 &  & \\cdots &  & 0 & V(x_{N-1}) \n",
    "\\end{pmatrix}\n",
    "\\begin{pmatrix}\n",
    "\\Psi_1 \\\\\n",
    "\\Psi_{2}   \\\\\n",
    "\\Psi_{3} \\\\ \n",
    "\\vdots\\\\\n",
    "\\Psi_{N-2} \\\\\n",
    "\\Psi_{N-1} \n",
    "\\end{pmatrix}\n",
    "\\end{align}\n",
    "or \n",
    "\\begin{align}\n",
    "i \\hbar \\frac{d \\vec{\\Psi}}{dt} &= H \\vec{\\Psi}, \\quad \\quad \\vec{\\Psi}(0) = \\psi_0.\n",
    "\\end{align}\n",
    "where we define $H$ as \n",
    "\\begin{align}\n",
    "H =\n",
    "-\\frac{\\hbar^2}{2 m (\\Delta x)^2}\n",
    "\\begin{pmatrix}\n",
    "-2 & 1 &  &  \\cdots &  & 0 \\\\\n",
    "1 & -2 & 1 &  &  & \\\\\n",
    "0 &  1 &  -2 &  1 &  & \\vdots\\\\\n",
    "\\vdots & & \\ddots & \\ddots & \\ddots & 0\\\\\n",
    "& &  & 1 & -2 & 1 \\\\\n",
    "0 &  & \\cdots &  & 1 & -2 \n",
    "\\end{pmatrix}\n",
    "+\\begin{pmatrix}\n",
    "V(x_1) & 0 &  &  \\cdots &  & 0 \\\\\n",
    "0 & V(x_2) & 0 &  &  & \\\\\n",
    "0 &  0 &  V(x_3) &  0 &  & \\vdots\\\\\n",
    "\\vdots & & \\ddots & \\ddots & \\ddots & 0\\\\\n",
    "& &  & 0 & V(x_{N-2}) & 0 \\\\\n",
    "0 &  & \\cdots &  & 0 & V(x_{N-1}) \n",
    "\\end{pmatrix}\n",
    "\\end{align}\n",
    "which can be thought out as the discretized Hamiltonian operator. To complete the solution, the boundary value solutions ($\\Psi_0 =\\Psi_{N} = 0$) must be put in after this equation is solved. In this form, the system can be solved using a numerical integrator."
   ]
  },
  {
   "cell_type": "code",
   "execution_count": 1,
   "id": "1bc20cb1",
   "metadata": {},
   "outputs": [],
   "source": [
    "import scipy \n",
    "import numpy as np \n",
    "import matplotlib.pyplot as plt \n",
    "\n",
    "from scipy.integrate import solve_ivp\n",
    "from matplotlib.animation import FuncAnimation, FFMpegWriter"
   ]
  },
  {
   "cell_type": "code",
   "execution_count": 2,
   "id": "7344610f",
   "metadata": {},
   "outputs": [],
   "source": [
    "# Atomic units\n",
    "hbar = 1\n",
    "mass = 1"
   ]
  },
  {
   "cell_type": "code",
   "execution_count": 3,
   "id": "d4299636",
   "metadata": {},
   "outputs": [],
   "source": [
    "# Define spacial mesh \n",
    "a = -20\n",
    "b = 20\n",
    "N = 4096\n",
    "x = np.linspace(a, b, N)"
   ]
  },
  {
   "cell_type": "code",
   "execution_count": 4,
   "id": "afc1e74e",
   "metadata": {},
   "outputs": [],
   "source": [
    "# Step potential function  \n",
    "def step_potential(x):\n",
    "    V0 = 175\n",
    "    return np.where(x > 7, V0, 0)"
   ]
  },
  {
   "cell_type": "code",
   "execution_count": 5,
   "id": "22f695f9",
   "metadata": {},
   "outputs": [],
   "source": [
    "# Construct discretized \"Kinetic Energy\" operator\n",
    "delta_x = np.abs(x[1] - x[0])\n",
    "T = -(hbar**2/(2*mass*delta_x**2)) * scipy.sparse.diags([1,-2,1], [-1,0,1], shape=(N-2, N-2))"
   ]
  },
  {
   "cell_type": "code",
   "execution_count": 6,
   "id": "e602778a",
   "metadata": {},
   "outputs": [],
   "source": [
    "# Construct discretized \"Potential Energy\" operator\n",
    "V = scipy.sparse.diags(step_potential(x[1:-1]), 0)"
   ]
  },
  {
   "cell_type": "code",
   "execution_count": 7,
   "id": "e1fbf6bd",
   "metadata": {},
   "outputs": [],
   "source": [
    "# Hamiltonian operator \n",
    "H = T + V"
   ]
  },
  {
   "cell_type": "code",
   "execution_count": 8,
   "id": "e08339ab",
   "metadata": {},
   "outputs": [],
   "source": [
    "#Initial condition of a Gaussian wavepacket\n",
    "def gaussian_wavepacket(x, x0, simga, k0):\n",
    "    '''Initial condition of a Gaussian wavepacket'''\n",
    "    norm_constant = 1/(np.sqrt(np.sqrt(2*np.pi) * simga))\n",
    "    return norm_constant * np.exp(-0.5 * ((x - x0) / simga)**2) * np.exp(1j*k0*x)"
   ]
  },
  {
   "cell_type": "code",
   "execution_count": null,
   "id": "5c731265",
   "metadata": {},
   "outputs": [],
   "source": [
    "# Initial condition \n",
    "psi_0 = gaussian_wavepacket(x, x0=0, simga=0.5, k0=20)"
   ]
  },
  {
   "cell_type": "code",
   "execution_count": 9,
   "id": "d534e1ad",
   "metadata": {},
   "outputs": [],
   "source": [
    "# Solution of the ODEs (neglecting boundary values)\n",
    "times = np.arange(0, 1, 0.01)\n",
    "tspan = [times[0], times[-1]]\n",
    "func = lambda t, psi: (-1j/hbar) * H.dot(psi)\n",
    "\n",
    "sol = solve_ivp(func, tspan, psi_0[1:-1], method='RK23', t_eval=times)"
   ]
  },
  {
   "cell_type": "code",
   "execution_count": 16,
   "id": "28201c2c",
   "metadata": {
    "scrolled": false
   },
   "outputs": [
    {
     "name": "stderr",
     "output_type": "stream",
     "text": [
      "MovieWriter ffmpeg unavailable; using Pillow instead.\n"
     ]
    },
    {
     "data": {
      "image/png": "[encoded data removed]",
      "text/plain": [
       "<Figure size 900x700 with 2 Axes>"
      ]
     },
     "metadata": {},
     "output_type": "display_data"
    }
   ],
   "source": [
    "# Animating the results \n",
    "fig, (ax1, ax2) = plt.subplots(2,1, figsize=(9,7))\n",
    "norm_potential = step_potential(x) / max(step_potential(x))\n",
    "ax1.plot(x, norm_potential, color='black')\n",
    "ax2.plot(x, norm_potential, color='black')\n",
    "\n",
    "line_prob, = ax1.plot([], [], label='Probability', color='royalblue')\n",
    "line_real, = ax2.plot([], [], label='Real $\\Psi$', color='darkred')\n",
    "lines = [line_prob, line_real]\n",
    "\n",
    "def init():\n",
    "    lines[0].set_data(x[1:-1], np.abs(sol.y[:, 0]**2))\n",
    "    lines[1].set_data(x[1:-1], np.real(sol.y[:, 0]))\n",
    "    return lines\n",
    "\n",
    "def animate(frame):\n",
    "    lines[0].set_data(x[1:-1], np.abs(sol.y[:, frame]**2))\n",
    "    lines[1].set_data(x[1:-1], np.real(sol.y[:, frame]))\n",
    "    return lines\n",
    "\n",
    "ax1.set_xlim([0, 15])\n",
    "ax1.set_ylim([0, 1.5]) \n",
    "\n",
    "ax2.set_xlim([0, 15])\n",
    "ax2.set_ylim([-1, 1.5])\n",
    "ax1.legend(loc='upper left') \n",
    "ax2.legend(loc='upper left') \n",
    "\n",
    "anim = FuncAnimation(fig, animate, init_func=init,\n",
    "                    frames=len(sol.t), interval=0.7, blit=True)\n",
    "\n",
    "anim.save('step_potential.gif', fps=15, dpi=200)"
   ]
  }
 ],
 "metadata": {
  "kernelspec": {
   "display_name": "Python 3 (ipykernel)",
   "language": "python",
   "name": "python3"
  },
  "language_info": {
   "codemirror_mode": {
    "name": "ipython",
    "version": 3
   },
   "file_extension": ".py",
   "mimetype": "text/x-python",
   "name": "python",
   "nbconvert_exporter": "python",
   "pygments_lexer": "ipython3",
   "version": "3.10.12"
  }
 },
 "nbformat": 4,
 "nbformat_minor": 5
}
